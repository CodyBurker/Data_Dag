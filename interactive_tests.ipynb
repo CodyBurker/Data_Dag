{
 "cells": [
  {
   "cell_type": "code",
   "execution_count": 5,
   "metadata": {},
   "outputs": [],
   "source": [
    "from interpreter import Interpreter"
   ]
  },
  {
   "cell_type": "code",
   "execution_count": 6,
   "metadata": {},
   "outputs": [],
   "source": [
    "interp = Interpreter()\n",
    "interp.set_logging('DEBUG')"
   ]
  },
  {
   "cell_type": "code",
   "execution_count": 7,
   "metadata": {},
   "outputs": [
    {
     "data": {
      "text/html": [
       "<div><style>\n",
       ".dataframe > thead > tr > th,\n",
       ".dataframe > tbody > tr > td {\n",
       "  text-align: right;\n",
       "  white-space: pre-wrap;\n",
       "}\n",
       "</style>\n",
       "<small>shape: (2, 2)</small><table border=\"1\" class=\"dataframe\"><thead><tr><th>variety</th><th>avg_sepal_width</th></tr><tr><td>str</td><td>f64</td></tr></thead><tbody><tr><td>&quot;Versicolor&quot;</td><td>2.9</td></tr><tr><td>&quot;Virginica&quot;</td><td>3.0</td></tr></tbody></table></div>"
      ],
      "text/plain": [
       "shape: (2, 2)\n",
       "┌────────────┬─────────────────┐\n",
       "│ variety    ┆ avg_sepal_width │\n",
       "│ ---        ┆ ---             │\n",
       "│ str        ┆ f64             │\n",
       "╞════════════╪═════════════════╡\n",
       "│ Versicolor ┆ 2.9             │\n",
       "│ Virginica  ┆ 3.0             │\n",
       "└────────────┴─────────────────┘"
      ]
     },
     "metadata": {},
     "output_type": "display_data"
    }
   ],
   "source": [
    "interp.run(\"\"\"\n",
    "read_csv \"iris.csv\"\n",
    "filter {sepal.length} > 6\n",
    "save_variable filtered\n",
    "           \n",
    "load_variable filtered\n",
    "group_by {variety}\n",
    "summarize {avg_sepal_width}=mean({sepal.width})\n",
    "add_column {avg_sepal_width} = {avg_sepal_width}.round(1)\n",
    "sort {avg_sepal_width} asc\n",
    "show\n",
    "\"\"\")"
   ]
  }
 ],
 "metadata": {
  "kernelspec": {
   "display_name": "datadag",
   "language": "python",
   "name": "python3"
  },
  "language_info": {
   "codemirror_mode": {
    "name": "ipython",
    "version": 3
   },
   "file_extension": ".py",
   "mimetype": "text/x-python",
   "name": "python",
   "nbconvert_exporter": "python",
   "pygments_lexer": "ipython3",
   "version": "3.11.4"
  },
  "orig_nbformat": 4
 },
 "nbformat": 4,
 "nbformat_minor": 2
}
