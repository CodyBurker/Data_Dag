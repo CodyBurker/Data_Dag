{
 "cells": [
  {
   "cell_type": "code",
   "execution_count": 5,
   "metadata": {},
   "outputs": [],
   "source": [
    "from interpreter import Interpreter"
   ]
  },
  {
   "cell_type": "code",
   "execution_count": 29,
   "metadata": {},
   "outputs": [
    {
     "data": {
      "text/html": [
       "<div><style>\n",
       ".dataframe > thead > tr > th,\n",
       ".dataframe > tbody > tr > td {\n",
       "  text-align: right;\n",
       "  white-space: pre-wrap;\n",
       "}\n",
       "</style>\n",
       "<small>shape: (10, 5)</small><table border=\"1\" class=\"dataframe\"><thead><tr><th>sepal.length</th><th>sepal.width</th><th>petal.length</th><th>petal.width</th><th>variety</th></tr><tr><td>f64</td><td>f64</td><td>f64</td><td>f64</td><td>str</td></tr></thead><tbody><tr><td>7.0</td><td>3.2</td><td>4.7</td><td>1.4</td><td>&quot;Versicolor&quot;</td></tr><tr><td>6.4</td><td>3.2</td><td>4.5</td><td>1.5</td><td>&quot;Versicolor&quot;</td></tr><tr><td>6.9</td><td>3.1</td><td>4.9</td><td>1.5</td><td>&quot;Versicolor&quot;</td></tr><tr><td>6.5</td><td>2.8</td><td>4.6</td><td>1.5</td><td>&quot;Versicolor&quot;</td></tr><tr><td>6.3</td><td>3.3</td><td>4.7</td><td>1.6</td><td>&quot;Versicolor&quot;</td></tr><tr><td>6.6</td><td>2.9</td><td>4.6</td><td>1.3</td><td>&quot;Versicolor&quot;</td></tr><tr><td>6.1</td><td>2.9</td><td>4.7</td><td>1.4</td><td>&quot;Versicolor&quot;</td></tr><tr><td>6.7</td><td>3.1</td><td>4.4</td><td>1.4</td><td>&quot;Versicolor&quot;</td></tr><tr><td>6.2</td><td>2.2</td><td>4.5</td><td>1.5</td><td>&quot;Versicolor&quot;</td></tr><tr><td>6.1</td><td>2.8</td><td>4.0</td><td>1.3</td><td>&quot;Versicolor&quot;</td></tr></tbody></table></div>"
      ],
      "text/plain": [
       "shape: (10, 5)\n",
       "┌──────────────┬─────────────┬──────────────┬─────────────┬────────────┐\n",
       "│ sepal.length ┆ sepal.width ┆ petal.length ┆ petal.width ┆ variety    │\n",
       "│ ---          ┆ ---         ┆ ---          ┆ ---         ┆ ---        │\n",
       "│ f64          ┆ f64         ┆ f64          ┆ f64         ┆ str        │\n",
       "╞══════════════╪═════════════╪══════════════╪═════════════╪════════════╡\n",
       "│ 7.0          ┆ 3.2         ┆ 4.7          ┆ 1.4         ┆ Versicolor │\n",
       "│ 6.4          ┆ 3.2         ┆ 4.5          ┆ 1.5         ┆ Versicolor │\n",
       "│ 6.9          ┆ 3.1         ┆ 4.9          ┆ 1.5         ┆ Versicolor │\n",
       "│ 6.5          ┆ 2.8         ┆ 4.6          ┆ 1.5         ┆ Versicolor │\n",
       "│ …            ┆ …           ┆ …            ┆ …           ┆ …          │\n",
       "│ 6.1          ┆ 2.9         ┆ 4.7          ┆ 1.4         ┆ Versicolor │\n",
       "│ 6.7          ┆ 3.1         ┆ 4.4          ┆ 1.4         ┆ Versicolor │\n",
       "│ 6.2          ┆ 2.2         ┆ 4.5          ┆ 1.5         ┆ Versicolor │\n",
       "│ 6.1          ┆ 2.8         ┆ 4.0          ┆ 1.3         ┆ Versicolor │\n",
       "└──────────────┴─────────────┴──────────────┴─────────────┴────────────┘"
      ]
     },
     "metadata": {},
     "output_type": "display_data"
    },
    {
     "data": {
      "text/html": [
       "<div><style>\n",
       ".dataframe > thead > tr > th,\n",
       ".dataframe > tbody > tr > td {\n",
       "  text-align: right;\n",
       "  white-space: pre-wrap;\n",
       "}\n",
       "</style>\n",
       "<small>shape: (1, 3)</small><table border=\"1\" class=\"dataframe\"><thead><tr><th>variety</th><th>avg_sepal_width</th><th>avg_sepal_length</th></tr><tr><td>str</td><td>f64</td><td>f64</td></tr></thead><tbody><tr><td>&quot;Versicolor&quot;</td><td>2.9</td><td>6.5</td></tr></tbody></table></div>"
      ],
      "text/plain": [
       "shape: (1, 3)\n",
       "┌────────────┬─────────────────┬──────────────────┐\n",
       "│ variety    ┆ avg_sepal_width ┆ avg_sepal_length │\n",
       "│ ---        ┆ ---             ┆ ---              │\n",
       "│ str        ┆ f64             ┆ f64              │\n",
       "╞════════════╪═════════════════╪══════════════════╡\n",
       "│ Versicolor ┆ 2.9             ┆ 6.5              │\n",
       "└────────────┴─────────────────┴──────────────────┘"
      ]
     },
     "metadata": {},
     "output_type": "display_data"
    }
   ],
   "source": [
    "interp = Interpreter()\n",
    "interp.run(\"\"\"\n",
    "# Example program\n",
    "read_csv \"data/iris.csv\"\n",
    "    filter {sepal.length} > 6\n",
    "    # select {variety} {sepal.length} {sepal.width}\n",
    "save_variable filtered\n",
    "\n",
    "load_variable filtered\n",
    "show\n",
    "           \n",
    "load_variable filtered\n",
    "    group_by {variety}\n",
    "    summarize {avg_sepal_width}=mean({sepal.width}), {avg_sepal_length}=mean({sepal.length})\n",
    "    add_column {avg_sepal_width} = {avg_sepal_width}.round(1)\n",
    "    add_column {avg_sepal_length} = {avg_sepal_length}.round(1)\n",
    "    sort {avg_sepal_width} asc {avg_sepal_length} desc\n",
    "    filter {variety} == \"Versicolor\"\n",
    "save_variable summary\n",
    "           \n",
    "load_variable summary\n",
    "show\n",
    "\"\"\")"
   ]
  },
  {
   "cell_type": "code",
   "execution_count": null,
   "metadata": {},
   "outputs": [],
   "source": [
    "interp.run(\"\"\"\n",
    "read_csv \"data/iris.csv\"\n",
    "add_column {sepal.sum} = {sepal.length} + {sepal.width}\n",
    "show\n",
    "           \"\"\")"
   ]
  }
 ],
 "metadata": {
  "kernelspec": {
   "display_name": "datadag",
   "language": "python",
   "name": "python3"
  },
  "language_info": {
   "codemirror_mode": {
    "name": "ipython",
    "version": 3
   },
   "file_extension": ".py",
   "mimetype": "text/x-python",
   "name": "python",
   "nbconvert_exporter": "python",
   "pygments_lexer": "ipython3",
   "version": "3.11.4"
  },
  "orig_nbformat": 4
 },
 "nbformat": 4,
 "nbformat_minor": 2
}
